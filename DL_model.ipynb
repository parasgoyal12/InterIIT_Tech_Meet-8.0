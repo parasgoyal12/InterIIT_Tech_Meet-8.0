{
 "cells": [
  {
   "cell_type": "code",
   "execution_count": 1,
   "metadata": {},
   "outputs": [],
   "source": [
    "import networkx as nx\n",
    "import matplotlib.pyplot as plt\n",
    "import math\n",
    "import random"
   ]
  },
  {
   "cell_type": "code",
   "execution_count": 2,
   "metadata": {},
   "outputs": [],
   "source": [
    "number_of_nodes=20\n",
    "edge_prob=0.2\n",
    "g=nx.gnp_random_graph(number_of_nodes,edge_prob)"
   ]
  },
  {
   "cell_type": "code",
   "execution_count": 3,
   "metadata": {},
   "outputs": [],
   "source": [
    "\n",
    "for (u,v) in g.edges():\n",
    "    g[u][v]['weight']=-math.log10(1-random.random())\n",
    "    g[u][v]['color']=random.randint(0,1)"
   ]
  },
  {
   "cell_type": "code",
   "execution_count": 4,
   "metadata": {},
   "outputs": [],
   "source": [
    "s=nx.algorithms.simple_paths.all_simple_paths(g,source=0,target=number_of_nodes-1)"
   ]
  },
  {
   "cell_type": "code",
   "execution_count": 5,
   "metadata": {},
   "outputs": [],
   "source": [
    "def path_prob(g,path,target):\n",
    "    prob=0.0\n",
    "    k=0\n",
    "    for index,i in enumerate(path):\n",
    "        if(i==target):\n",
    "            break\n",
    "        prob=prob + g[i][path[index+1]]['weight']\n",
    "        k=k+g[i][path[index+1]]['color']\n",
    "    return (prob,k)"
   ]
  },
  {
   "cell_type": "code",
   "execution_count": 6,
   "metadata": {},
   "outputs": [],
   "source": [
    "k_count=random.randint(2,10)\n",
    "m_prob=0.6452\n",
    "# m_prob=-math.log10(1-random.random())"
   ]
  },
  {
   "cell_type": "code",
   "execution_count": 7,
   "metadata": {},
   "outputs": [],
   "source": [
    "flag=0\n",
    "for path in s:\n",
    "    pp,pk=path_prob(g,path,number_of_nodes-1)\n",
    "#     print(pp)\n",
    "#     print(pk)\n",
    "    if pp<=m_prob and pk <= k_count:\n",
    "        flag=1\n",
    "        break\n"
   ]
  },
  {
   "cell_type": "code",
   "execution_count": 8,
   "metadata": {},
   "outputs": [
    {
     "name": "stdout",
     "output_type": "stream",
     "text": [
      "5\n",
      "1\n"
     ]
    }
   ],
   "source": [
    "print(k_count)\n",
    "print(flag)"
   ]
  },
  {
   "cell_type": "code",
   "execution_count": 9,
   "metadata": {},
   "outputs": [
    {
     "name": "stdout",
     "output_type": "stream",
     "text": [
      "0.6452\n"
     ]
    }
   ],
   "source": [
    "print(m_prob)"
   ]
  },
  {
   "cell_type": "code",
   "execution_count": 12,
   "metadata": {},
   "outputs": [],
   "source": [
    "f=open('test_case.txt','w')\n",
    "f.write(str(m_prob)+'\\n')\n",
    "f.write(str(k_count)+'\\n')\n",
    "f.write(str(number_of_nodes)+'\\n')\n",
    "f.write(str(g.number_of_edges())+'\\n')\n",
    "for (u,v) in g.edges():\n",
    "    f.write(f'{u+1} {v+1} {g[u][v][\"weight\"]} {g[u][v][\"color\"]}\\n')"
   ]
  },
  {
   "cell_type": "code",
   "execution_count": null,
   "metadata": {},
   "outputs": [],
   "source": [
    "g.edges()"
   ]
  },
  {
   "cell_type": "code",
   "execution_count": null,
   "metadata": {},
   "outputs": [],
   "source": [
    "g[0][3]['weight']"
   ]
  },
  {
   "cell_type": "code",
   "execution_count": null,
   "metadata": {},
   "outputs": [],
   "source": []
  }
 ],
 "metadata": {
  "kernelspec": {
   "display_name": "Python 3",
   "language": "python",
   "name": "python3"
  },
  "language_info": {
   "codemirror_mode": {
    "name": "ipython",
    "version": 3
   },
   "file_extension": ".py",
   "mimetype": "text/x-python",
   "name": "python",
   "nbconvert_exporter": "python",
   "pygments_lexer": "ipython3",
   "version": "3.7.3"
  }
 },
 "nbformat": 4,
 "nbformat_minor": 2
}
